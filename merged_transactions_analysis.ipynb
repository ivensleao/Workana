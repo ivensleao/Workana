{
 "cells": [
  {
   "cell_type": "markdown",
   "id": "29e20bfc",
   "metadata": {},
   "source": [
    "# Analysis of Merged Transactions Data\n",
    "This notebook analyzes the merged transactions data to identify trends and patterns. It includes visualizations created using Matplotlib and Seaborn."
   ]
  },
  {
   "cell_type": "code",
   "execution_count": null,
   "id": "aafbad81",
   "metadata": {},
   "outputs": [],
   "source": [
    "import pandas as pd\n",
    "import matplotlib.pyplot as plt\n",
    "import seaborn as sns"
   ]
  },
  {
   "cell_type": "code",
   "execution_count": null,
   "id": "ec3ecf58",
   "metadata": {},
   "outputs": [],
   "source": [
    "data_path = 'data/merged_transactions.csv'\n",
    "df = pd.read_csv(data_path)\n",
    "df.head()"
   ]
  },
  {
   "cell_type": "code",
   "execution_count": null,
   "id": "d20afc2a",
   "metadata": {},
   "outputs": [],
   "source": [
    "df.describe()"
   ]
  },
  {
   "cell_type": "code",
   "execution_count": null,
   "id": "831dca5b",
   "metadata": {},
   "outputs": [],
   "source": [
    "# Total spending by customer\n",
    "total_spent_by_customer = df.groupby('customer_name_customer')['amount'].sum().sort_values(ascending=False)\n",
    "plt.figure(figsize=(10, 6))\n",
    "total_spent_by_customer.plot(kind='bar', color='skyblue')\n",
    "plt.title('Total Spending by Customer')\n",
    "plt.xlabel('Customer Name')\n",
    "plt.ylabel('Total Spending')\n",
    "plt.xticks(rotation=45, ha='right')\n",
    "plt.show()"
   ]
  },
  {
   "cell_type": "code",
   "execution_count": null,
   "id": "5b09504c",
   "metadata": {},
   "outputs": [],
   "source": [
    "# Monthly spending trend\n",
    "df['transaction_date'] = pd.to_datetime(df['transaction_date'])\n",
    "monthly_spending = df.groupby(pd.Grouper(key='transaction_date', freq='M'))['amount'].sum()\n",
    "plt.figure(figsize=(10, 6))\n",
    "monthly_spending.plot(kind='line', marker='o', color='green')\n",
    "plt.title('Monthly Spending Trend')\n",
    "plt.xlabel('Month')\n",
    "plt.ylabel('Total Spending')\n",
    "plt.grid(True)\n",
    "plt.show()"
   ]
  },
  {
   "cell_type": "code",
   "execution_count": null,
   "id": "f3567629",
   "metadata": {},
   "outputs": [
    {
     "data": {
      "text/plain": [
       "Traceback (most recent call last):\n",
       "  File \"/home/ivensleao/.vscode/extensions/ms-python.python-2024.20.0-linux-x64/python_files/python_server.py\", line 130, in exec_user_input\n",
       "    retval = callable_(user_input, user_globals)\n",
       "             ^^^^^^^^^^^^^^^^^^^^^^^^^^^^^^^^^^^\n",
       "  File \"<string>\", line 3, in <module>\n",
       "NameError: name 'sns' is not defined\n",
       "\n"
      ]
     },
     "metadata": {},
     "output_type": "display_data"
    }
   ],
   "source": [
    "# Top 10 customers by total spending\n",
    "top_customers = df.groupby('customer_name_customer')['amount'].sum().nlargest(10)\n",
    "sns.barplot(x=top_customers.values, y=top_customers.index, palette='viridis')\n",
    "plt.title('Top 10 Customers by Total Spending')\n",
    "plt.xlabel('Total Spending')\n",
    "plt.ylabel('Customer Name')\n",
    "plt.show()"
   ]
  },
  {
   "cell_type": "code",
   "execution_count": null,
   "id": "434179d1",
   "metadata": {},
   "outputs": [],
   "source": [
    "# Distribution of transaction amounts\n",
    "plt.figure(figsize=(10, 6))\n",
    "sns.histplot(df['amount'], kde=True, bins=20, color='orange')\n",
    "plt.title('Distribution of Transaction Amounts')\n",
    "plt.xlabel('Transaction Amount')\n",
    "plt.ylabel('Frequency')\n",
    "plt.show()"
   ]
  },
  {
   "cell_type": "markdown",
   "id": "7f2caca7",
   "metadata": {},
   "source": [
    "## Findings\n",
    "- **Total Spending by Customer**: Identify which customers are spending the most.\n",
    "- **Monthly Spending Trend**: Observe spending trends over time.\n",
    "- **Top Customers**: Highlight the top 10 customers contributing the most to revenue.\n",
    "- **Transaction Distribution**: Understand the distribution of transaction amounts."
   ]
  }
 ],
 "metadata": {
  "language_info": {
   "name": "python"
  }
 },
 "nbformat": 4,
 "nbformat_minor": 5
}
